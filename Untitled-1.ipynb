{
 "cells": [
  {
   "cell_type": "code",
   "execution_count": 3,
   "metadata": {},
   "outputs": [
    {
     "name": "stdout",
     "output_type": "stream",
     "text": [
      "[5, 3, -1, 2, 6] [14, 6, -5.5, 3.5, 18]\n"
     ]
    }
   ],
   "source": [
    "x=[5,3,-1,2,6]\n",
    "y=[14,6,-5.5,3.5,18]\n",
    "print(x,y)"
   ]
  },
  {
   "cell_type": "code",
   "execution_count": 4,
   "metadata": {},
   "outputs": [
    {
     "name": "stdout",
     "output_type": "stream",
     "text": [
      "5 5 14\n",
      "5 8 20\n",
      "5 7 14.5\n",
      "5 9 18.0\n",
      "5 15 36.0\n"
     ]
    }
   ],
   "source": [
    "X, Y, XiYi ,Xi2=0,0,0,0\n",
    "n = len(x)\n",
    "for i in range(n):\n",
    "  X=X+x[i]\n",
    "  Y=Y+y[i]\n",
    "  XiYi= XiYi+x[i]*y[i]\n",
    "  Xi2=Xi2+x[i]**2\n",
    "  print(n,X,Y)"
   ]
  }
 ],
 "metadata": {
  "kernelspec": {
   "display_name": "Python 3",
   "language": "python",
   "name": "python3"
  },
  "language_info": {
   "codemirror_mode": {
    "name": "ipython",
    "version": 3
   },
   "file_extension": ".py",
   "mimetype": "text/x-python",
   "name": "python",
   "nbconvert_exporter": "python",
   "pygments_lexer": "ipython3",
   "version": "3.13.0"
  }
 },
 "nbformat": 4,
 "nbformat_minor": 2
}
